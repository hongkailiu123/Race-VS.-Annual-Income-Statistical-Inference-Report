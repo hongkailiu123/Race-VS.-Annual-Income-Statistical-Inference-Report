{
 "cells": [
  {
   "cell_type": "markdown",
   "id": "75bc2cee-9e77-407a-a3f7-18be0a30a5a9",
   "metadata": {},
   "source": [
    "## Proposal_Group7"
   ]
  },
  {
   "cell_type": "code",
   "execution_count": null,
   "id": "eeac1db0-01d4-46d1-9871-eaa6b05ddc1c",
   "metadata": {},
   "outputs": [],
   "source": []
  }
 ],
 "metadata": {
  "kernelspec": {
   "display_name": "R",
   "language": "R",
   "name": "ir"
  },
  "language_info": {
   "codemirror_mode": "r",
   "file_extension": ".r",
   "mimetype": "text/x-r-source",
   "name": "R",
   "pygments_lexer": "r",
   "version": "4.1.3"
  },
  "toc-autonumbering": true
 },
 "nbformat": 4,
 "nbformat_minor": 5
}
