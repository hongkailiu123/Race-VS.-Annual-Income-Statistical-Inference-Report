{
 "cells": [
  {
   "cell_type": "markdown",
   "id": "75bc2cee-9e77-407a-a3f7-18be0a30a5a9",
   "metadata": {},
   "source": [
    "## Proposal_Group7"
   ]
  },
  {
   "cell_type": "code",
   "execution_count": null,
   "id": "bc23b18d-e924-407e-8168-70d4eaacaaa9",
   "metadata": {},
   "outputs": [],
   "source": []
  },
  {
   "cell_type": "code",
   "execution_count": null,
   "id": "eeac1db0-01d4-46d1-9871-eaa6b05ddc1c",
   "metadata": {},
   "outputs": [],
   "source": []
  },
  {
   "cell_type": "code",
   "execution_count": null,
   "id": "7bbdacb3-004d-406d-9d9e-4e73e52dd502",
   "metadata": {},
   "outputs": [],
   "source": []
  },
  {
   "cell_type": "code",
   "execution_count": null,
   "id": "2fb99847-ac3e-4ecd-bd59-da888246a359",
   "metadata": {},
   "outputs": [],
   "source": []
  }
 ],
 "metadata": {
  "kernelspec": {
   "display_name": "R",
   "language": "R",
   "name": "ir"
  },
  "language_info": {
   "codemirror_mode": "r",
   "file_extension": ".r",
   "mimetype": "text/x-r-source",
   "name": "R",
   "pygments_lexer": "r",
   "version": "4.1.3"
  }
 },
 "nbformat": 4,
 "nbformat_minor": 5
}
