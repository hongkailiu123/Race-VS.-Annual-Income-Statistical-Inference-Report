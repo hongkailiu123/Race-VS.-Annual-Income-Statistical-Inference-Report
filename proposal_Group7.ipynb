{
 "cells": [
  {
   "cell_type": "markdown",
   "id": "75bc2cee-9e77-407a-a3f7-18be0a30a5a9",
   "metadata": {},
   "source": [
    "## Proposal_Group7"
   ]
  },
  {
   "cell_type": "code",
   "execution_count": 5,
   "id": "e1334198-027f-4587-90d4-4f925acc7cf7",
   "metadata": {},
   "outputs": [],
   "source": [
    "library(cowplot)\n",
    "library(datateachr)\n",
    "library(digest)\n",
    "library(infer)\n",
    "library(repr)\n",
    "library(taxyvr)\n",
    "library(tidyverse)"
   ]
  },
  {
   "cell_type": "code",
   "execution_count": 6,
   "id": "eeac1db0-01d4-46d1-9871-eaa6b05ddc1c",
   "metadata": {},
   "outputs": [],
   "source": [
    "salary_dataset <- read.csv(\"Salary_Data_Based_country_and_race.csv\")"
   ]
  },
  {
   "cell_type": "code",
   "execution_count": 8,
   "id": "d14c97df-6534-4350-b406-b23a9f4bc87c",
   "metadata": {},
   "outputs": [
    {
     "data": {
      "text/html": [
       "<table class=\"dataframe\">\n",
       "<caption>A data.frame: 6 × 9</caption>\n",
       "<thead>\n",
       "\t<tr><th></th><th scope=col>X</th><th scope=col>Age</th><th scope=col>Gender</th><th scope=col>Education.Level</th><th scope=col>Job.Title</th><th scope=col>Years.of.Experience</th><th scope=col>Salary</th><th scope=col>Country</th><th scope=col>Race</th></tr>\n",
       "\t<tr><th></th><th scope=col>&lt;int&gt;</th><th scope=col>&lt;dbl&gt;</th><th scope=col>&lt;chr&gt;</th><th scope=col>&lt;chr&gt;</th><th scope=col>&lt;chr&gt;</th><th scope=col>&lt;dbl&gt;</th><th scope=col>&lt;dbl&gt;</th><th scope=col>&lt;chr&gt;</th><th scope=col>&lt;chr&gt;</th></tr>\n",
       "</thead>\n",
       "<tbody>\n",
       "\t<tr><th scope=row>1</th><td>0</td><td>32</td><td>Male  </td><td>Bachelor's</td><td>Software Engineer</td><td> 5</td><td> 90000</td><td>UK    </td><td>White   </td></tr>\n",
       "\t<tr><th scope=row>2</th><td>1</td><td>28</td><td>Female</td><td>Master's  </td><td>Data Analyst     </td><td> 3</td><td> 65000</td><td>USA   </td><td>Hispanic</td></tr>\n",
       "\t<tr><th scope=row>3</th><td>2</td><td>45</td><td>Male  </td><td>PhD       </td><td>Senior Manager   </td><td>15</td><td>150000</td><td>Canada</td><td>White   </td></tr>\n",
       "\t<tr><th scope=row>4</th><td>3</td><td>36</td><td>Female</td><td>Bachelor's</td><td>Sales Associate  </td><td> 7</td><td> 60000</td><td>USA   </td><td>Hispanic</td></tr>\n",
       "\t<tr><th scope=row>5</th><td>4</td><td>52</td><td>Male  </td><td>Master's  </td><td>Director         </td><td>20</td><td>200000</td><td>USA   </td><td>Asian   </td></tr>\n",
       "\t<tr><th scope=row>6</th><td>5</td><td>29</td><td>Male  </td><td>Bachelor's</td><td>Marketing Analyst</td><td> 2</td><td> 55000</td><td>USA   </td><td>Hispanic</td></tr>\n",
       "</tbody>\n",
       "</table>\n"
      ],
      "text/latex": [
       "A data.frame: 6 × 9\n",
       "\\begin{tabular}{r|lllllllll}\n",
       "  & X & Age & Gender & Education.Level & Job.Title & Years.of.Experience & Salary & Country & Race\\\\\n",
       "  & <int> & <dbl> & <chr> & <chr> & <chr> & <dbl> & <dbl> & <chr> & <chr>\\\\\n",
       "\\hline\n",
       "\t1 & 0 & 32 & Male   & Bachelor's & Software Engineer &  5 &  90000 & UK     & White   \\\\\n",
       "\t2 & 1 & 28 & Female & Master's   & Data Analyst      &  3 &  65000 & USA    & Hispanic\\\\\n",
       "\t3 & 2 & 45 & Male   & PhD        & Senior Manager    & 15 & 150000 & Canada & White   \\\\\n",
       "\t4 & 3 & 36 & Female & Bachelor's & Sales Associate   &  7 &  60000 & USA    & Hispanic\\\\\n",
       "\t5 & 4 & 52 & Male   & Master's   & Director          & 20 & 200000 & USA    & Asian   \\\\\n",
       "\t6 & 5 & 29 & Male   & Bachelor's & Marketing Analyst &  2 &  55000 & USA    & Hispanic\\\\\n",
       "\\end{tabular}\n"
      ],
      "text/markdown": [
       "\n",
       "A data.frame: 6 × 9\n",
       "\n",
       "| <!--/--> | X &lt;int&gt; | Age &lt;dbl&gt; | Gender &lt;chr&gt; | Education.Level &lt;chr&gt; | Job.Title &lt;chr&gt; | Years.of.Experience &lt;dbl&gt; | Salary &lt;dbl&gt; | Country &lt;chr&gt; | Race &lt;chr&gt; |\n",
       "|---|---|---|---|---|---|---|---|---|---|\n",
       "| 1 | 0 | 32 | Male   | Bachelor's | Software Engineer |  5 |  90000 | UK     | White    |\n",
       "| 2 | 1 | 28 | Female | Master's   | Data Analyst      |  3 |  65000 | USA    | Hispanic |\n",
       "| 3 | 2 | 45 | Male   | PhD        | Senior Manager    | 15 | 150000 | Canada | White    |\n",
       "| 4 | 3 | 36 | Female | Bachelor's | Sales Associate   |  7 |  60000 | USA    | Hispanic |\n",
       "| 5 | 4 | 52 | Male   | Master's   | Director          | 20 | 200000 | USA    | Asian    |\n",
       "| 6 | 5 | 29 | Male   | Bachelor's | Marketing Analyst |  2 |  55000 | USA    | Hispanic |\n",
       "\n"
      ],
      "text/plain": [
       "  X Age Gender Education.Level Job.Title         Years.of.Experience Salary\n",
       "1 0 32  Male   Bachelor's      Software Engineer  5                   90000\n",
       "2 1 28  Female Master's        Data Analyst       3                   65000\n",
       "3 2 45  Male   PhD             Senior Manager    15                  150000\n",
       "4 3 36  Female Bachelor's      Sales Associate    7                   60000\n",
       "5 4 52  Male   Master's        Director          20                  200000\n",
       "6 5 29  Male   Bachelor's      Marketing Analyst  2                   55000\n",
       "  Country Race    \n",
       "1 UK      White   \n",
       "2 USA     Hispanic\n",
       "3 Canada  White   \n",
       "4 USA     Hispanic\n",
       "5 USA     Asian   \n",
       "6 USA     Hispanic"
      ]
     },
     "metadata": {},
     "output_type": "display_data"
    }
   ],
   "source": [
    "head(salary_dataset)"
   ]
  },
  {
   "cell_type": "markdown",
   "id": "173961f9-9e38-44be-8cdf-941202bd4e39",
   "metadata": {},
   "source": [
    "## Introduction"
   ]
  },
  {
   "cell_type": "markdown",
   "id": "abff707d-1d41-4e54-895d-a326a7bd807a",
   "metadata": {},
   "source": []
  },
  {
   "cell_type": "markdown",
   "id": "0ef23770-957c-4300-bd0d-ef14fb140a05",
   "metadata": {},
   "source": [
    "## Prelimary Results"
   ]
  },
  {
   "cell_type": "markdown",
   "id": "46f0dbdd-3ba1-4179-b90a-172b7736ba27",
   "metadata": {},
   "source": []
  },
  {
   "cell_type": "markdown",
   "id": "b038f9a8-2da5-4f7e-84b7-138e84886fb0",
   "metadata": {},
   "source": [
    "## Methods: Plan"
   ]
  },
  {
   "cell_type": "markdown",
   "id": "df93c9dd-d9dd-42ae-b15b-1fec6ca0e6be",
   "metadata": {},
   "source": []
  },
  {
   "cell_type": "markdown",
   "id": "f441b026-80f6-4faf-84b0-bac8244dcb41",
   "metadata": {},
   "source": [
    "## References"
   ]
  },
  {
   "cell_type": "markdown",
   "id": "f9e40ed9-63f9-4c1f-8939-da2e1c559dc3",
   "metadata": {},
   "source": []
  }
 ],
 "metadata": {
  "kernelspec": {
   "display_name": "R",
   "language": "R",
   "name": "ir"
  },
  "language_info": {
   "codemirror_mode": "r",
   "file_extension": ".r",
   "mimetype": "text/x-r-source",
   "name": "R",
   "pygments_lexer": "r",
   "version": "4.1.3"
  },
  "toc-autonumbering": true
 },
 "nbformat": 4,
 "nbformat_minor": 5
}
